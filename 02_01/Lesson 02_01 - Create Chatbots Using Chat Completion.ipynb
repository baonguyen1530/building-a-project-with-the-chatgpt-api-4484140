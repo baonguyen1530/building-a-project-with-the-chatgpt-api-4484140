{
 "cells": [
  {
   "cell_type": "markdown",
   "id": "caa8cd98",
   "metadata": {},
   "source": [
    "# Building a Project with the ChatGPT API"
   ]
  },
  {
   "cell_type": "markdown",
   "id": "c606f61f",
   "metadata": {},
   "source": [
    "## Lesson Examples"
   ]
  },
  {
   "cell_type": "markdown",
   "id": "b126d991",
   "metadata": {},
   "source": [
    "### Install the necessary libraries. "
   ]
  },
  {
   "cell_type": "code",
   "execution_count": 1,
   "id": "cbb7c175",
   "metadata": {},
   "outputs": [
    {
     "name": "stdout",
     "output_type": "stream",
     "text": [
      "Collecting openai\n",
      "  Downloading openai-1.58.1-py3-none-any.whl.metadata (27 kB)\n",
      "Collecting anyio<5,>=3.5.0 (from openai)\n",
      "  Downloading anyio-4.7.0-py3-none-any.whl.metadata (4.7 kB)\n",
      "Collecting distro<2,>=1.7.0 (from openai)\n",
      "  Downloading distro-1.9.0-py3-none-any.whl.metadata (6.8 kB)\n",
      "Collecting httpx<1,>=0.23.0 (from openai)\n",
      "  Downloading httpx-0.28.1-py3-none-any.whl.metadata (7.1 kB)\n",
      "Collecting jiter<1,>=0.4.0 (from openai)\n",
      "  Downloading jiter-0.8.2-cp312-cp312-win_amd64.whl.metadata (5.3 kB)\n",
      "Collecting pydantic<3,>=1.9.0 (from openai)\n",
      "  Downloading pydantic-2.10.4-py3-none-any.whl.metadata (29 kB)\n",
      "Collecting sniffio (from openai)\n",
      "  Downloading sniffio-1.3.1-py3-none-any.whl.metadata (3.9 kB)\n",
      "Collecting tqdm>4 (from openai)\n",
      "  Downloading tqdm-4.67.1-py3-none-any.whl.metadata (57 kB)\n",
      "     ---------------------------------------- 0.0/57.7 kB ? eta -:--:--\n",
      "     ---------------------------------------- 57.7/57.7 kB ? eta 0:00:00\n",
      "Collecting typing-extensions<5,>=4.11 (from openai)\n",
      "  Downloading typing_extensions-4.12.2-py3-none-any.whl.metadata (3.0 kB)\n",
      "Collecting idna>=2.8 (from anyio<5,>=3.5.0->openai)\n",
      "  Downloading idna-3.10-py3-none-any.whl.metadata (10 kB)\n",
      "Collecting certifi (from httpx<1,>=0.23.0->openai)\n",
      "  Downloading certifi-2024.12.14-py3-none-any.whl.metadata (2.3 kB)\n",
      "Collecting httpcore==1.* (from httpx<1,>=0.23.0->openai)\n",
      "  Downloading httpcore-1.0.7-py3-none-any.whl.metadata (21 kB)\n",
      "Collecting h11<0.15,>=0.13 (from httpcore==1.*->httpx<1,>=0.23.0->openai)\n",
      "  Downloading h11-0.14.0-py3-none-any.whl.metadata (8.2 kB)\n",
      "Collecting annotated-types>=0.6.0 (from pydantic<3,>=1.9.0->openai)\n",
      "  Downloading annotated_types-0.7.0-py3-none-any.whl.metadata (15 kB)\n",
      "Collecting pydantic-core==2.27.2 (from pydantic<3,>=1.9.0->openai)\n",
      "  Downloading pydantic_core-2.27.2-cp312-cp312-win_amd64.whl.metadata (6.7 kB)\n",
      "Requirement already satisfied: colorama in c:\\users\\baowa\\appdata\\roaming\\python\\python312\\site-packages (from tqdm>4->openai) (0.4.6)\n",
      "Downloading openai-1.58.1-py3-none-any.whl (454 kB)\n",
      "   ---------------------------------------- 0.0/454.3 kB ? eta -:--:--\n",
      "   --------------------------------------  450.6/454.3 kB 14.2 MB/s eta 0:00:01\n",
      "   ---------------------------------------- 454.3/454.3 kB 9.4 MB/s eta 0:00:00\n",
      "Downloading anyio-4.7.0-py3-none-any.whl (93 kB)\n",
      "   ---------------------------------------- 0.0/93.1 kB ? eta -:--:--\n",
      "   ---------------------------------------- 93.1/93.1 kB 2.7 MB/s eta 0:00:00\n",
      "Downloading distro-1.9.0-py3-none-any.whl (20 kB)\n",
      "Downloading httpx-0.28.1-py3-none-any.whl (73 kB)\n",
      "   ---------------------------------------- 0.0/73.5 kB ? eta -:--:--\n",
      "   ---------------------------------------- 73.5/73.5 kB 4.0 MB/s eta 0:00:00\n",
      "Downloading httpcore-1.0.7-py3-none-any.whl (78 kB)\n",
      "   ---------------------------------------- 0.0/78.6 kB ? eta -:--:--\n",
      "   ---------------------------------------- 78.6/78.6 kB ? eta 0:00:00\n",
      "Downloading jiter-0.8.2-cp312-cp312-win_amd64.whl (204 kB)\n",
      "   ---------------------------------------- 0.0/204.7 kB ? eta -:--:--\n",
      "   --------------------------------------- 204.7/204.7 kB 12.2 MB/s eta 0:00:00\n",
      "Downloading pydantic-2.10.4-py3-none-any.whl (431 kB)\n",
      "   ---------------------------------------- 0.0/431.8 kB ? eta -:--:--\n",
      "   --------------------------------------- 431.8/431.8 kB 26.3 MB/s eta 0:00:00\n",
      "Downloading pydantic_core-2.27.2-cp312-cp312-win_amd64.whl (2.0 MB)\n",
      "   ---------------------------------------- 0.0/2.0 MB ? eta -:--:--\n",
      "   ------------------- -------------------- 1.0/2.0 MB 31.7 MB/s eta 0:00:01\n",
      "   ---------------------------------------- 2.0/2.0 MB 25.4 MB/s eta 0:00:00\n",
      "Downloading sniffio-1.3.1-py3-none-any.whl (10 kB)\n",
      "Downloading tqdm-4.67.1-py3-none-any.whl (78 kB)\n",
      "   ---------------------------------------- 0.0/78.5 kB ? eta -:--:--\n",
      "   ---------------------------------------- 78.5/78.5 kB ? eta 0:00:00\n",
      "Downloading typing_extensions-4.12.2-py3-none-any.whl (37 kB)\n",
      "Downloading annotated_types-0.7.0-py3-none-any.whl (13 kB)\n",
      "Downloading idna-3.10-py3-none-any.whl (70 kB)\n",
      "   ---------------------------------------- 0.0/70.4 kB ? eta -:--:--\n",
      "   ---------------------------------------- 70.4/70.4 kB ? eta 0:00:00\n",
      "Downloading certifi-2024.12.14-py3-none-any.whl (164 kB)\n",
      "   ---------------------------------------- 0.0/164.9 kB ? eta -:--:--\n",
      "   ---------------------------------------- 164.9/164.9 kB 9.7 MB/s eta 0:00:00\n",
      "Downloading h11-0.14.0-py3-none-any.whl (58 kB)\n",
      "   ---------------------------------------- 0.0/58.3 kB ? eta -:--:--\n",
      "   ---------------------------------------- 58.3/58.3 kB ? eta 0:00:00\n",
      "Installing collected packages: typing-extensions, tqdm, sniffio, jiter, idna, h11, distro, certifi, annotated-types, pydantic-core, httpcore, anyio, pydantic, httpx, openai\n",
      "Successfully installed annotated-types-0.7.0 anyio-4.7.0 certifi-2024.12.14 distro-1.9.0 h11-0.14.0 httpcore-1.0.7 httpx-0.28.1 idna-3.10 jiter-0.8.2 openai-1.58.1 pydantic-2.10.4 pydantic-core-2.27.2 sniffio-1.3.1 tqdm-4.67.1 typing-extensions-4.12.2\n",
      "Note: you may need to restart the kernel to use updated packages.\n"
     ]
    },
    {
     "name": "stderr",
     "output_type": "stream",
     "text": [
      "\n",
      "[notice] A new release of pip is available: 24.0 -> 24.3.1\n",
      "[notice] To update, run: python.exe -m pip install --upgrade pip\n"
     ]
    }
   ],
   "source": [
    "pip install openai"
   ]
  },
  {
   "cell_type": "code",
   "execution_count": 2,
   "id": "bc699e7c",
   "metadata": {},
   "outputs": [
    {
     "name": "stdout",
     "output_type": "stream",
     "text": [
      "Requirement already satisfied: openai[datalib] in c:\\users\\baowa\\appdata\\local\\programs\\python\\python312\\lib\\site-packages (1.58.1)\n",
      "Requirement already satisfied: anyio<5,>=3.5.0 in c:\\users\\baowa\\appdata\\local\\programs\\python\\python312\\lib\\site-packages (from openai[datalib]) (4.7.0)\n",
      "Requirement already satisfied: distro<2,>=1.7.0 in c:\\users\\baowa\\appdata\\local\\programs\\python\\python312\\lib\\site-packages (from openai[datalib]) (1.9.0)\n",
      "Requirement already satisfied: httpx<1,>=0.23.0 in c:\\users\\baowa\\appdata\\local\\programs\\python\\python312\\lib\\site-packages (from openai[datalib]) (0.28.1)\n",
      "Requirement already satisfied: jiter<1,>=0.4.0 in c:\\users\\baowa\\appdata\\local\\programs\\python\\python312\\lib\\site-packages (from openai[datalib]) (0.8.2)\n",
      "Requirement already satisfied: pydantic<3,>=1.9.0 in c:\\users\\baowa\\appdata\\local\\programs\\python\\python312\\lib\\site-packages (from openai[datalib]) (2.10.4)\n",
      "Requirement already satisfied: sniffio in c:\\users\\baowa\\appdata\\local\\programs\\python\\python312\\lib\\site-packages (from openai[datalib]) (1.3.1)\n",
      "Requirement already satisfied: tqdm>4 in c:\\users\\baowa\\appdata\\local\\programs\\python\\python312\\lib\\site-packages (from openai[datalib]) (4.67.1)\n",
      "Requirement already satisfied: typing-extensions<5,>=4.11 in c:\\users\\baowa\\appdata\\local\\programs\\python\\python312\\lib\\site-packages (from openai[datalib]) (4.12.2)\n",
      "Collecting numpy>=1 (from openai[datalib])\n",
      "  Downloading numpy-2.2.1-cp312-cp312-win_amd64.whl.metadata (60 kB)\n",
      "     ---------------------------------------- 0.0/60.8 kB ? eta -:--:--\n",
      "     ------------------- ------------------ 30.7/60.8 kB 435.7 kB/s eta 0:00:01\n",
      "     -------------------------------------- 60.8/60.8 kB 803.2 kB/s eta 0:00:00\n",
      "Collecting pandas-stubs>=1.1.0.11 (from openai[datalib])\n",
      "  Downloading pandas_stubs-2.2.3.241126-py3-none-any.whl.metadata (10.0 kB)\n",
      "Collecting pandas>=1.2.3 (from openai[datalib])\n",
      "  Downloading pandas-2.2.3-cp312-cp312-win_amd64.whl.metadata (19 kB)\n",
      "Requirement already satisfied: idna>=2.8 in c:\\users\\baowa\\appdata\\local\\programs\\python\\python312\\lib\\site-packages (from anyio<5,>=3.5.0->openai[datalib]) (3.10)\n",
      "Requirement already satisfied: certifi in c:\\users\\baowa\\appdata\\local\\programs\\python\\python312\\lib\\site-packages (from httpx<1,>=0.23.0->openai[datalib]) (2024.12.14)\n",
      "Requirement already satisfied: httpcore==1.* in c:\\users\\baowa\\appdata\\local\\programs\\python\\python312\\lib\\site-packages (from httpx<1,>=0.23.0->openai[datalib]) (1.0.7)\n",
      "Requirement already satisfied: h11<0.15,>=0.13 in c:\\users\\baowa\\appdata\\local\\programs\\python\\python312\\lib\\site-packages (from httpcore==1.*->httpx<1,>=0.23.0->openai[datalib]) (0.14.0)\n",
      "Requirement already satisfied: python-dateutil>=2.8.2 in c:\\users\\baowa\\appdata\\roaming\\python\\python312\\site-packages (from pandas>=1.2.3->openai[datalib]) (2.9.0.post0)\n",
      "Collecting pytz>=2020.1 (from pandas>=1.2.3->openai[datalib])\n",
      "  Downloading pytz-2024.2-py2.py3-none-any.whl.metadata (22 kB)\n",
      "Collecting tzdata>=2022.7 (from pandas>=1.2.3->openai[datalib])\n",
      "  Downloading tzdata-2024.2-py2.py3-none-any.whl.metadata (1.4 kB)\n",
      "Collecting types-pytz>=2022.1.1 (from pandas-stubs>=1.1.0.11->openai[datalib])\n",
      "  Downloading types_pytz-2024.2.0.20241221-py3-none-any.whl.metadata (1.8 kB)\n",
      "Requirement already satisfied: annotated-types>=0.6.0 in c:\\users\\baowa\\appdata\\local\\programs\\python\\python312\\lib\\site-packages (from pydantic<3,>=1.9.0->openai[datalib]) (0.7.0)\n",
      "Requirement already satisfied: pydantic-core==2.27.2 in c:\\users\\baowa\\appdata\\local\\programs\\python\\python312\\lib\\site-packages (from pydantic<3,>=1.9.0->openai[datalib]) (2.27.2)\n",
      "Requirement already satisfied: colorama in c:\\users\\baowa\\appdata\\roaming\\python\\python312\\site-packages (from tqdm>4->openai[datalib]) (0.4.6)\n",
      "Requirement already satisfied: six>=1.5 in c:\\users\\baowa\\appdata\\roaming\\python\\python312\\site-packages (from python-dateutil>=2.8.2->pandas>=1.2.3->openai[datalib]) (1.16.0)\n",
      "Downloading numpy-2.2.1-cp312-cp312-win_amd64.whl (12.6 MB)\n",
      "   ---------------------------------------- 0.0/12.6 MB ? eta -:--:--\n",
      "   - -------------------------------------- 0.5/12.6 MB 9.4 MB/s eta 0:00:02\n",
      "   ----- ---------------------------------- 1.7/12.6 MB 21.7 MB/s eta 0:00:01\n",
      "   ------------ --------------------------- 3.8/12.6 MB 26.9 MB/s eta 0:00:01\n",
      "   ------------------ --------------------- 5.7/12.6 MB 30.5 MB/s eta 0:00:01\n",
      "   --------------------- ------------------ 6.9/12.6 MB 31.6 MB/s eta 0:00:01\n",
      "   -------------------------- ------------- 8.4/12.6 MB 31.5 MB/s eta 0:00:01\n",
      "   ----------------------------- ---------- 9.4/12.6 MB 29.9 MB/s eta 0:00:01\n",
      "   ----------------------------------- ---- 11.1/12.6 MB 34.4 MB/s eta 0:00:01\n",
      "   ---------------------------------------  12.6/12.6 MB 34.4 MB/s eta 0:00:01\n",
      "   ---------------------------------------  12.6/12.6 MB 34.4 MB/s eta 0:00:01\n",
      "   ---------------------------------------  12.6/12.6 MB 34.4 MB/s eta 0:00:01\n",
      "   ---------------------------------------- 12.6/12.6 MB 25.2 MB/s eta 0:00:00\n",
      "Downloading pandas-2.2.3-cp312-cp312-win_amd64.whl (11.5 MB)\n",
      "   ---------------------------------------- 0.0/11.5 MB ? eta -:--:--\n",
      "   ---- ----------------------------------- 1.2/11.5 MB 26.0 MB/s eta 0:00:01\n",
      "   ---------- ----------------------------- 2.9/11.5 MB 36.9 MB/s eta 0:00:01\n",
      "   --------------- ------------------------ 4.4/11.5 MB 31.4 MB/s eta 0:00:01\n",
      "   -------------------- ------------------- 5.8/11.5 MB 33.7 MB/s eta 0:00:01\n",
      "   ------------------------- -------------- 7.3/11.5 MB 33.4 MB/s eta 0:00:01\n",
      "   ------------------------------ --------- 8.7/11.5 MB 32.9 MB/s eta 0:00:01\n",
      "   ----------------------------------- ---- 10.3/11.5 MB 32.8 MB/s eta 0:00:01\n",
      "   ---------------------------------------  11.5/11.5 MB 32.7 MB/s eta 0:00:01\n",
      "   ---------------------------------------  11.5/11.5 MB 32.7 MB/s eta 0:00:01\n",
      "   ---------------------------------------  11.5/11.5 MB 32.7 MB/s eta 0:00:01\n",
      "   ---------------------------------------- 11.5/11.5 MB 25.1 MB/s eta 0:00:00\n",
      "Downloading pandas_stubs-2.2.3.241126-py3-none-any.whl (158 kB)\n",
      "   ---------------------------------------- 0.0/158.3 kB ? eta -:--:--\n",
      "   ---------------------------------------- 158.3/158.3 kB ? eta 0:00:00\n",
      "Downloading pytz-2024.2-py2.py3-none-any.whl (508 kB)\n",
      "   ---------------------------------------- 0.0/508.0 kB ? eta -:--:--\n",
      "   --------------------------------------- 508.0/508.0 kB 16.1 MB/s eta 0:00:00\n",
      "Downloading types_pytz-2024.2.0.20241221-py3-none-any.whl (10 kB)\n",
      "Downloading tzdata-2024.2-py2.py3-none-any.whl (346 kB)\n",
      "   ---------------------------------------- 0.0/346.6 kB ? eta -:--:--\n",
      "   --------------------------------------- 346.6/346.6 kB 21.0 MB/s eta 0:00:00\n",
      "Installing collected packages: pytz, tzdata, types-pytz, numpy, pandas-stubs, pandas\n",
      "Successfully installed numpy-2.2.1 pandas-2.2.3 pandas-stubs-2.2.3.241126 pytz-2024.2 types-pytz-2024.2.0.20241221 tzdata-2024.2\n",
      "Note: you may need to restart the kernel to use updated packages.\n"
     ]
    },
    {
     "name": "stderr",
     "output_type": "stream",
     "text": [
      "\n",
      "[notice] A new release of pip is available: 24.0 -> 24.3.1\n",
      "[notice] To update, run: python.exe -m pip install --upgrade pip\n"
     ]
    }
   ],
   "source": [
    "pip install openai[datalib]"
   ]
  },
  {
   "cell_type": "code",
   "execution_count": 3,
   "id": "c1615b50",
   "metadata": {},
   "outputs": [
    {
     "name": "stdout",
     "output_type": "stream",
     "text": [
      "Collecting urllib3==1.26.6\n",
      "  Downloading urllib3-1.26.6-py2.py3-none-any.whl.metadata (44 kB)\n",
      "     ---------------------------------------- 0.0/44.3 kB ? eta -:--:--\n",
      "     ----------------- -------------------- 20.5/44.3 kB 640.0 kB/s eta 0:00:01\n",
      "     -------------------------------------- 44.3/44.3 kB 724.0 kB/s eta 0:00:00\n",
      "Downloading urllib3-1.26.6-py2.py3-none-any.whl (138 kB)\n",
      "   ---------------------------------------- 0.0/138.5 kB ? eta -:--:--\n",
      "   ---------------------------------------- 138.5/138.5 kB 4.1 MB/s eta 0:00:00\n",
      "Installing collected packages: urllib3\n",
      "Successfully installed urllib3-1.26.6\n",
      "Note: you may need to restart the kernel to use updated packages.\n"
     ]
    },
    {
     "name": "stderr",
     "output_type": "stream",
     "text": [
      "\n",
      "[notice] A new release of pip is available: 24.0 -> 24.3.1\n",
      "[notice] To update, run: python.exe -m pip install --upgrade pip\n"
     ]
    }
   ],
   "source": [
    "pip install urllib3==1.26.6 "
   ]
  },
  {
   "cell_type": "code",
   "execution_count": 4,
   "id": "646f69d3",
   "metadata": {},
   "outputs": [
    {
     "name": "stdout",
     "output_type": "stream",
     "text": [
      "Collecting python-dotenv\n",
      "  Downloading python_dotenv-1.0.1-py3-none-any.whl.metadata (23 kB)\n",
      "Downloading python_dotenv-1.0.1-py3-none-any.whl (19 kB)\n",
      "Installing collected packages: python-dotenv\n",
      "Successfully installed python-dotenv-1.0.1\n",
      "Note: you may need to restart the kernel to use updated packages.\n"
     ]
    },
    {
     "name": "stderr",
     "output_type": "stream",
     "text": [
      "\n",
      "[notice] A new release of pip is available: 24.0 -> 24.3.1\n",
      "[notice] To update, run: python.exe -m pip install --upgrade pip\n"
     ]
    }
   ],
   "source": [
    "pip install python-dotenv"
   ]
  },
  {
   "cell_type": "markdown",
   "id": "ee48e61b",
   "metadata": {},
   "source": [
    "### Import the libraries and environment file to gain access to the Open API Key\n",
    "#### The key can be generated here: https://platform.openai.com/account/api-keys"
   ]
  },
  {
   "cell_type": "code",
   "execution_count": 38,
   "id": "70841de5",
   "metadata": {},
   "outputs": [],
   "source": [
    "import os\n",
    "from openai import OpenAI\n",
    "\n",
    "\n",
    "from dotenv import load_dotenv, find_dotenv\n",
    "_ = load_dotenv(find_dotenv()) # read local .env file"
   ]
  },
  {
   "cell_type": "markdown",
   "id": "e5387008",
   "metadata": {},
   "source": [
    "### Authenticate to the API using the API Key\n",
    "#### Pull from environment variables or use api_key = (\"your_key_here\") to hardcode the key"
   ]
  },
  {
   "cell_type": "code",
   "execution_count": 39,
   "id": "7cf566e0",
   "metadata": {},
   "outputs": [],
   "source": [
    "client = OpenAI(\n",
    "  api_key=os.environ['OPENAI_API_KEY']  \n",
    ")"
   ]
  },
  {
   "cell_type": "markdown",
   "id": "934c2ebe",
   "metadata": {},
   "source": [
    "## Lesson 02_01 - Create Chatbots Using Chat Completion"
   ]
  },
  {
   "cell_type": "code",
   "execution_count": 40,
   "id": "f20f0b30",
   "metadata": {},
   "outputs": [],
   "source": [
    "response = client.chat.completions.create(\n",
    "  model=\"gpt-3.5-turbo\",\n",
    "  messages=[\n",
    "       {\"role\": \"system\", \"content\": '''You are a helpful assistant that acts as a \n",
    "                                        sous chef.'''},\n",
    "       {\"role\": \"user\", \"content\": '''When should I use Capellini pasta?'''}\n",
    "  ]\n",
    ")"
   ]
  },
  {
   "cell_type": "code",
   "execution_count": 41,
   "id": "776a9a63",
   "metadata": {},
   "outputs": [
    {
     "name": "stdout",
     "output_type": "stream",
     "text": [
      "{\n",
      "  \"id\": \"chatcmpl-8JseMtjWz9g497PDsGu7O8rgT7o7n\",\n",
      "  \"choices\": [\n",
      "    {\n",
      "      \"finish_reason\": \"stop\",\n",
      "      \"index\": 0,\n",
      "      \"message\": {\n",
      "        \"content\": \"Capellini, also known as angel hair pasta, is a thin and delicate pasta variety that cooks quickly. It is best used in dishes that require a light and delicate pasta texture. Capellini is popularly used in Italian dishes with light sauces to maximize the pasta's fine texture.\\n\\nHere are a few instances where capellini pasta is commonly used:\\n\\n1. Light Cream or Butter Sauces: Capellini pairs well with light cream sauces such as lemon butter, garlic cream, or tomato cream sauces. The fine strands of capellini can absorb and hold onto these sauces well.\\n\\n2. Olive Oil-Based Sauces: Capellini can be tossed with simple olive oil-based sauces with ingredients like garlic, red pepper flakes, and fresh herbs. This allows the pasta to shine through with its delicate texture, while the flavors of the sauce enhance the overall dish.\\n\\n3. Seafood Dishes: Capellini is often used in seafood pasta dishes, like shrimp scampi or linguine with clams. The thin pasta pairs nicely with the delicate flavors of seafood, allowing the flavors to mesh well together.\\n\\n4. Cold Pasta Salads: Capellini can be used in cold pasta salads, providing a light and refreshing base to showcase various seasonal vegetables, herbs, and dressings.\\n\\nIt's important to note that capellini cooks very quickly, usually within just 2-3 minutes, so be mindful of the cooking time to avoid overcooking. Enjoy experimenting with capellini in various dishes to take advantage of its delicate texture!\",\n",
      "        \"role\": \"assistant\",\n",
      "        \"function_call\": null,\n",
      "        \"tool_calls\": null\n",
      "      }\n",
      "    }\n",
      "  ],\n",
      "  \"created\": 1699748998,\n",
      "  \"model\": \"gpt-3.5-turbo-0613\",\n",
      "  \"object\": \"chat.completion\",\n",
      "  \"system_fingerprint\": null,\n",
      "  \"usage\": {\n",
      "    \"completion_tokens\": 313,\n",
      "    \"prompt_tokens\": 34,\n",
      "    \"total_tokens\": 347\n",
      "  }\n",
      "}\n"
     ]
    }
   ],
   "source": [
    "print(response.model_dump_json(indent=2))"
   ]
  },
  {
   "cell_type": "code",
   "execution_count": 42,
   "id": "0fa1adf7",
   "metadata": {
    "scrolled": true
   },
   "outputs": [],
   "source": [
    "response = client.chat.completions.create(\n",
    "  model=\"gpt-3.5-turbo\",\n",
    "  messages=[\n",
    "       {\"role\": \"system\", \"content\": '''You are a helpful assistant that acts as a \n",
    "                                        sous chef.'''},\n",
    "       {\"role\": \"user\", \"content\": '''Can you tell me when I should use Capellini \n",
    "                               pasta in 15 words or less?'''}\n",
    "  ]\n",
    ")"
   ]
  },
  {
   "cell_type": "code",
   "execution_count": 43,
   "id": "cb57267c",
   "metadata": {},
   "outputs": [
    {
     "name": "stdout",
     "output_type": "stream",
     "text": [
      "{\n",
      "  \"id\": \"chatcmpl-8JsezDmmeTXwAsDp9ucOtmYFFqGwG\",\n",
      "  \"choices\": [\n",
      "    {\n",
      "      \"finish_reason\": \"stop\",\n",
      "      \"index\": 0,\n",
      "      \"message\": {\n",
      "        \"content\": \"Use Capellini pasta when you want a delicate and light pasta option in your dish.\",\n",
      "        \"role\": \"assistant\",\n",
      "        \"function_call\": null,\n",
      "        \"tool_calls\": null\n",
      "      }\n",
      "    }\n",
      "  ],\n",
      "  \"created\": 1699749037,\n",
      "  \"model\": \"gpt-3.5-turbo-0613\",\n",
      "  \"object\": \"chat.completion\",\n",
      "  \"system_fingerprint\": null,\n",
      "  \"usage\": {\n",
      "    \"completion_tokens\": 18,\n",
      "    \"prompt_tokens\": 46,\n",
      "    \"total_tokens\": 64\n",
      "  }\n",
      "}\n"
     ]
    }
   ],
   "source": [
    "print(response.model_dump_json(indent=2))"
   ]
  }
 ],
 "metadata": {
  "kernelspec": {
   "display_name": "Python 3",
   "language": "python",
   "name": "python3"
  },
  "language_info": {
   "codemirror_mode": {
    "name": "ipython",
    "version": 3
   },
   "file_extension": ".py",
   "mimetype": "text/x-python",
   "name": "python",
   "nbconvert_exporter": "python",
   "pygments_lexer": "ipython3",
   "version": "3.12.4"
  }
 },
 "nbformat": 4,
 "nbformat_minor": 5
}
